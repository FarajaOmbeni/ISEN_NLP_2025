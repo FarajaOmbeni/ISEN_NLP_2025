{
  "nbformat": 4,
  "nbformat_minor": 0,
  "metadata": {
    "colab": {
      "provenance": []
    },
    "kernelspec": {
      "name": "python3",
      "display_name": "Python 3"
    }
  },
  "cells": [
    {
      "cell_type": "markdown",
      "metadata": {
        "id": "HwrqC1Fk5-WZ"
      },
      "source": [
        "# Analyse de texte utilisant NLTK"
      ]
    },
    {
      "cell_type": "code",
      "metadata": {
        "id": "wfBlnB6S5l2V"
      },
      "source": [
        "from nltk.tokenize import word_tokenize\n",
        "from nltk.text import Text\n",
        "import nltk"
      ],
      "execution_count": null,
      "outputs": []
    },
    {
      "cell_type": "code",
      "metadata": {
        "id": "_lyPdA7sDm0U"
      },
      "source": [
        "nltk.download('punkt')\n",
        "nltk.download('stopwords')\n",
        "nltk.download('wordnet')\n",
        "nltk.download('averaged_perceptron_tagger')\n",
        "nltk.download('omw-1.4')"
      ],
      "execution_count": null,
      "outputs": []
    },
    {
      "cell_type": "markdown",
      "metadata": {
        "id": "0pbLZHOK6sH-"
      },
      "source": [
        "# La tokenization"
      ]
    },
    {
      "cell_type": "markdown",
      "metadata": {
        "id": "GCg-nz4m637N"
      },
      "source": [
        "Le but est de transformer une phrase en vecteur de mots."
      ]
    },
    {
      "cell_type": "code",
      "metadata": {
        "id": "owA-myd_5o30"
      },
      "source": [
        "my_string = \"Je suis ici pour étudier le Natural Language Processing, j'adore ça\"\n",
        "tokens = word_tokenize(my_string)\n",
        "tokens"
      ],
      "execution_count": null,
      "outputs": []
    },
    {
      "cell_type": "markdown",
      "metadata": {
        "id": "KF1k_V3tBa5_"
      },
      "source": [
        "On peut voir que la tokenization n'est pas parfaite \"j'adore\" est considéré comme une seul mot.\n",
        "on va utiliser les expressions régulières pour ne récupérer que les caractères alphanumériques de chaque phrase."
      ]
    },
    {
      "cell_type": "code",
      "metadata": {
        "id": "51bj2aWe62Nd"
      },
      "source": [
        "tokenizer = nltk.RegexpTokenizer(r'\\w+')\n",
        "tokens = tokenizer.tokenize(my_string)\n",
        "tokens"
      ],
      "execution_count": null,
      "outputs": []
    },
    {
      "cell_type": "markdown",
      "metadata": {
        "id": "91B9paOwBwG0"
      },
      "source": [
        "On peut voir que l'on a toujours des majuscules ce qui peut être un problème lors d'un comptage de notre vocabulaire.\n",
        "\n",
        "N'oubliez pas de mettre votre phrase en minuscule avant de travailler desssus."
      ]
    },
    {
      "cell_type": "code",
      "metadata": {
        "id": "5bcv0-88BGz8"
      },
      "source": [
        "tokens = tokenizer.tokenize(my_string.lower())\n",
        "tokens"
      ],
      "execution_count": null,
      "outputs": []
    },
    {
      "cell_type": "markdown",
      "metadata": {
        "id": "I4FJi0hUCdc3"
      },
      "source": [
        "# Les stopwords"
      ]
    },
    {
      "cell_type": "markdown",
      "metadata": {
        "id": "3dg7lrl4EJ1f"
      },
      "source": [
        "On va supprimer ici les mots les plus fréquents et qui n'apporte pas beaucoup d'informations. Si on voit la phrase comme un signal transportant de l'information, les stopwords peuvent être vue comme du bruit.\n",
        "\n",
        "Combien de stopwords sont présent dans la langue française ?"
      ]
    },
    {
      "cell_type": "code",
      "metadata": {
        "id": "WxMD8nC8B0Ug"
      },
      "source": [
        "len(nltk.corpus.stopwords.words('french'))"
      ],
      "execution_count": null,
      "outputs": []
    },
    {
      "cell_type": "markdown",
      "metadata": {
        "id": "UTV4QvxrEhxQ"
      },
      "source": [
        "La librairie *nltk* répertorie 157 stopwords pour la langue française !\n",
        "\n",
        "Vous pouvez voir les dix premiers mots ci-dessous."
      ]
    },
    {
      "cell_type": "code",
      "metadata": {
        "id": "_PeMDDVcEiO3"
      },
      "source": [
        "nltk.corpus.stopwords.words('french')[:10]"
      ],
      "execution_count": null,
      "outputs": []
    },
    {
      "cell_type": "markdown",
      "metadata": {
        "id": "9xhqlJ5LEydQ"
      },
      "source": [
        "On peut donc retirer les stopwords de notre phrase de base."
      ]
    },
    {
      "cell_type": "code",
      "metadata": {
        "id": "Lo5nY9WBDko4"
      },
      "source": [
        "[w for w in tokens if not w in list(nltk.corpus.stopwords.words('french'))]"
      ],
      "execution_count": null,
      "outputs": []
    },
    {
      "cell_type": "markdown",
      "metadata": {
        "id": "YsqSiU2RFfzf"
      },
      "source": [
        "Notre phrase contient seulement les mots qui ont de la valeur, il est maintenant possible de l'étudier."
      ]
    },
    {
      "cell_type": "markdown",
      "metadata": {
        "id": "Y7eWa8hyFt2r"
      },
      "source": [
        "# Un problème de doublon"
      ]
    },
    {
      "cell_type": "code",
      "metadata": {
        "id": "nv18_uP1F9gG"
      },
      "source": [
        "my_string = \"Julien est plus grand que toi, mais tu es plus grande que Sophie. \\\n",
        "            Julien et Sophie sont plus grands que Marie\"\n",
        "tokenizer = nltk.RegexpTokenizer(r'\\w+')\n",
        "tokens = tokenizer.tokenize(my_string.lower())\n",
        "tokens = [w for w in tokens if not w in list(nltk.corpus.stopwords.words('french'))]\n",
        "\n",
        "tokens"
      ],
      "execution_count": null,
      "outputs": []
    },
    {
      "cell_type": "markdown",
      "metadata": {
        "id": "bL0oHk82HWIv"
      },
      "source": [
        "On peut voir que dans la phrase il y a plusieurs le même mot \"grand\" mais accordé de différentes façon."
      ]
    },
    {
      "cell_type": "code",
      "metadata": {
        "id": "92UryKQOHQCZ"
      },
      "source": [
        "nltk.FreqDist(tokens)"
      ],
      "execution_count": null,
      "outputs": []
    },
    {
      "cell_type": "markdown",
      "metadata": {
        "id": "eaXrymlMHmC2"
      },
      "source": [
        "Si l'on travail le texte, on va donc considérer que \"grand\", \"grande\" et \"grands\" sont trois mots différents."
      ]
    },
    {
      "cell_type": "markdown",
      "metadata": {
        "id": "0htJPcieIDhv"
      },
      "source": [
        "# Le stemming"
      ]
    },
    {
      "cell_type": "markdown",
      "metadata": {
        "id": "yA7RZ43-JxDf"
      },
      "source": [
        "Le stemming garde une racinisation des mots. Cette technique permet de regrouper des verbes conjugués et des adjectifs accordés sous la même orthographe."
      ]
    },
    {
      "cell_type": "code",
      "metadata": {
        "id": "2Voph9oTHctB"
      },
      "source": [
        "from nltk.stem.snowball import FrenchStemmer\n",
        "\n",
        "stemmer = FrenchStemmer()"
      ],
      "execution_count": null,
      "outputs": []
    },
    {
      "cell_type": "markdown",
      "metadata": {
        "id": "M12BE934KXoQ"
      },
      "source": [
        "N'oubliez pas d'utiliser une stemming adéquat au language utilisé."
      ]
    },
    {
      "cell_type": "code",
      "metadata": {
        "id": "Njy0fNx7IFpF"
      },
      "source": [
        "tokens_stem = [stemmer.stem(w) for w in tokens]\n",
        "tokens_stem"
      ],
      "execution_count": null,
      "outputs": []
    },
    {
      "cell_type": "code",
      "metadata": {
        "id": "_3mwgHwcIZFV"
      },
      "source": [
        "nltk.FreqDist(tokens_stem)"
      ],
      "execution_count": null,
      "outputs": []
    },
    {
      "cell_type": "markdown",
      "metadata": {
        "id": "esxD53DfKcvo"
      },
      "source": [
        "On peut voir que cette fois, \"grand\", \"grande\" et \"grands\" se retrouve sous la même forme \"grand\"."
      ]
    },
    {
      "cell_type": "markdown",
      "metadata": {
        "id": "E7ayq_ZUKkWt"
      },
      "source": [
        "# Lemmatization"
      ]
    },
    {
      "cell_type": "markdown",
      "metadata": {
        "id": "e-Jv_f18KrKP"
      },
      "source": [
        "Le processus de lemmatisation consiste à représenter les mots sous leur forme canonique. Par exemple pour un verbe, ce sera son infinitif. Pour un nom, son masculin singulier.\n",
        "\n",
        "La fonction de lemmatization n'existe pas dans *nltk* pour le français l'exemple qui suit sera donc en anglais."
      ]
    },
    {
      "cell_type": "code",
      "metadata": {
        "id": "Q28YNvUpLZUq"
      },
      "source": [
        "from nltk.stem import WordNetLemmatizer\n",
        "Word_Lemmatizer = WordNetLemmatizer()"
      ],
      "execution_count": null,
      "outputs": []
    },
    {
      "cell_type": "code",
      "metadata": {
        "id": "eol6SD1kLAND"
      },
      "source": [
        "my_string = \"Who let's the dogs out.\"\n",
        "tokenizer = nltk.RegexpTokenizer(r'\\w+')\n",
        "tokens = tokenizer.tokenize(my_string.lower())\n",
        "tokens = [w for w in tokens if not w in list(nltk.corpus.stopwords.words())]\n",
        "print(tokens)\n",
        "tokens_lema = [Word_Lemmatizer.lemmatize(w) for w in tokens]\n",
        "print(tokens_lema)"
      ],
      "execution_count": null,
      "outputs": []
    },
    {
      "cell_type": "markdown",
      "metadata": {
        "id": "XwUC2I0HNHbd"
      },
      "source": [
        "# Part of speach tagging"
      ]
    },
    {
      "cell_type": "markdown",
      "metadata": {
        "id": "4wQxCf_wN3TL"
      },
      "source": [
        "On peut avoir des précisions sur l'usage du mot dans la phrase."
      ]
    },
    {
      "cell_type": "code",
      "metadata": {
        "id": "9HD0ygijL-u0"
      },
      "source": [
        "my_string = \"I like hot tea\"\n",
        "tokenizer = nltk.RegexpTokenizer(r'\\w+')\n",
        "tokens = tokenizer.tokenize(my_string.lower())\n",
        "nltk.pos_tag(tokens)"
      ],
      "execution_count": null,
      "outputs": []
    }
  ]
}